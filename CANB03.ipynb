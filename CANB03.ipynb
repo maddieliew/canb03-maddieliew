{
 "cells": [
  {
   "cell_type": "markdown",
   "metadata": {},
   "source": [
    "<div style=\"display: block; width: 100%; height: 100px;\">\n",
    "\n",
    "<p style=\"float: left;\">\n",
    "    <span style=\"font-weight: bold; line-height: 24px; font-size: 16px;\">\n",
    "        Department of Digital Humanities\n",
    "        <br />\n",
    "        5AAVC210 Introduction to Programming in Python\n",
    "    </span>\n",
    "    <br >\n",
    "   \n",
    "</p>\n",
    "\n",
    "<img style=\"width: 120px; height: 90px; float: right; margin: 0 0 0 0;\" src=\"data:image/svg+xml;base64,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\" />\n",
    "</div>"
   ]
  },
  {
   "cell_type": "markdown",
   "metadata": {},
   "source": [
    "# Notebook 3: Files, Requests and Statistics \n",
    "\n",
    "With this Notebook, our focus is on getting what you need in place to help you do your final assessment. This is a long and complicated notebook, but you have nearly three weeks to do it! **It's due in on 17th March before 4pm.**\n",
    "\n",
    "There are three main parts to this Notebook, so that's nearly a week for each part. \n",
    "\n",
    "This time we will focus on opening files and doing something with the contents, making requests to web pages, and using the data returned from them for research. We'll also say hello to the standard `statistics` library, and look at handy functions for calculating the mean, median and mode. By the end of this, you should be comfortable doing the following.\n",
    "\n",
    "* Importing files and working with the data in them\n",
    "* Making an HTTP GET request to a remote web page and receiving a result back.\n",
    "* Using BeautifulSoup to parse a web page and get basic data out of an HTML tree.\n",
    "* Using the statistics module to calculate the mean, median and mode.\n",
    "\n",
    "If you're a bit unsure about the statistics bit and would like a re-cap of the terms, [check out this article](https://www.khanacademy.org/math/statistics-probability/summarizing-quantitative-data/mean-median-basics/a/mean-median-and-mode-review).\n",
    "\n",
    "To this point in the module, all of the data we've used has been provided to us ready-made. This week, we'll be getting some of that data from a file, and some from the real world, by taking it from the Internet."
   ]
  },
  {
   "cell_type": "markdown",
   "metadata": {},
   "source": [
    "# PART 1\n",
    "\n",
    "## Using files\n",
    "\n",
    "You are going to write a program to tell users about a specific country. A file called `countryinfo.py`, which is included in the .zip file along with this Notebook, is a list of dictionaries detailing the majority of countries in the world. \n",
    "\n",
    "Make sure you have this `countryinfo.py` file in the same folder as your Jupyter Notebook.\n",
    "\n",
    "Dealing with dicts inside a list sounds complex. The first part of this tutorial should help you understand the structure: https://canvas.instructure.com/courses/1133362/pages/book-5-dot-4-python-combining-lists-and-dictionaries\n",
    "\n",
    "I've imported the `countryinfo.py` file in the cell below, alongside the pprint() function, which works just like print(), but makes complex types easier to read by putting spaces and new lines in them. Run it and see the contents of the file. (You can also open the file in a text editor to view it.)"
   ]
  },
  {
   "cell_type": "code",
   "execution_count": null,
   "metadata": {},
   "outputs": [],
   "source": [
    "# we're importing a variable here from a local file\n",
    "from countryinfo import countries\n",
    "from pprint import pprint # this is the \"pretty print\" function\n",
    "\n",
    "pprint(countries)"
   ]
  },
  {
   "cell_type": "markdown",
   "metadata": {},
   "source": [
    "When you run pprint(countries) you can see all the dict items with their keys and values. (These are all contained within a list called countries, which is what we imported, above.)"
   ]
  },
  {
   "cell_type": "markdown",
   "metadata": {},
   "source": [
    "### EXERCISE 1\n",
    "<font color=purple> Write a program which:\n",
    "\n",
    "Asks the user which country they wish to find out about (NB: they'll have to spell it correctly and start it with a capital letter). **[10 marks]**\n",
    "\n",
    "Looks to see if the country is within a dict item in the list, displaying a message if no such country is found. **[5 marks]**\n",
    "\n",
    "If the country name is found, prints out facts about the country using the information in countryinfo.py. **[15 marks]**\n",
    "    </font>\n",
    "\n",
    "For example, if your user entered 'Chile', your program would return something like:\n",
    "You asked about: Chile\n",
    "\n",
    "Capital city is: \n",
    "\n",
    "Santiago \n",
    "\n",
    "Timezone is: \n",
    "\n",
    "['America/Santiago', 'Pacific/Easter'] \n",
    "\n",
    "Continent is: \n",
    "\n",
    "South America\n",
    "\n",
    "**Hint**\n",
    "In the cell below I've given you a way of looping through all the dict items in the countries list and extracting the value of the name variable. Play around with this and see how it works."
   ]
  },
  {
   "cell_type": "code",
   "execution_count": null,
   "metadata": {},
   "outputs": [],
   "source": [
    "for item in countries: \n",
    "    countryname = item['name']  \n",
    "    print(countryname) "
   ]
  },
  {
   "cell_type": "code",
   "execution_count": null,
   "metadata": {},
   "outputs": [],
   "source": [
    "# your code here. You can use multiple cells if you wish."
   ]
  },
  {
   "cell_type": "markdown",
   "metadata": {},
   "source": [
    "\n",
    "# PART 2\n",
    "\n",
    "## Making Requests\n",
    "\n",
    "As you might expect, it's very rare to have data readily available to us as a neat list or dictionary in Python. Usually, we'll need to take our data *from* somewhere, and more often than not, that data is likely to be on the internet or in a file.\n",
    "\n",
    "But first a recap about the way that the internet works: HTTP requests and reponses.\n",
    "\n",
    "Whenever we want to visit a web page, we type the URL into our browser, hit enter, and then the web page appears. But what happens \"under the hood?\" If we remember our History of Networked Technologies module then we should know that:\n",
    "\n",
    "* The URL is a Uniform Resource Locator, which informs the browser of the protocol, location and path of the resource we want to get. So, for example, `http://www.bbc.co.uk/news` is actually an instruction to our browser to use the `http` protocol to look on the `www.bbc.co.uk` server (using the DNS system) for a resource called `/news`.\n",
    "* HTTP stands for Hyper-Text Transfer Protocol, and was developed by [Tim Berners-Lee at CERN in 1989](http://info.cern.ch/Proposal.html).\n",
    "* The browser makes an HTTP request to the server. The request must be one of several different methods, the most common of which are `GET` and `POST`. Today we're only looking at `GET` requests.\n",
    "* The server receives the request, and looks for the resource on the server. It will send a response with a status code and a body.\n",
    "    * If the resource is found, the server will send a response with status code **200**.\n",
    "    * If the resource is not found, the server will send a response with status code **404**, perhaps with a page saying \"not found\".\n",
    "    \n",
    "So, how do we do this in Python?\n",
    "\n",
    "Well, like all things, there are several different methods we can use, but the most common and often most effective method is to use the `requests` library. Now, let's see an example of making a request."
   ]
  },
  {
   "cell_type": "code",
   "execution_count": null,
   "metadata": {},
   "outputs": [],
   "source": [
    "# import the library\n",
    "import requests\n",
    "\n",
    "# let's specify a URL, the KCL Library Services page\n",
    "u = 'https://www.kcl.ac.uk/library/index.aspx'\n",
    "\n",
    "# and now make a GET request\n",
    "r = requests.get(u)\n",
    "\n",
    "# and see the status code\n",
    "print(r.status_code)"
   ]
  },
  {
   "cell_type": "markdown",
   "metadata": {},
   "source": [
    "Hopefully, when you run the above code you should see the number `200` printed out from the cell above. Hoorah, we made a successful request. And just to prove it, let's make a nonsensical request."
   ]
  },
  {
   "cell_type": "code",
   "execution_count": null,
   "metadata": {},
   "outputs": [],
   "source": [
    "# let's specify a URL that doesn't exist\n",
    "u_bad = 'https://www.kcl.ac.uk/notthispapge'\n",
    "\n",
    "# and now make a GET request\n",
    "r_bad = requests.get(u_bad)\n",
    "\n",
    "# and see the status code\n",
    "print(r_bad.status_code)"
   ]
  },
  {
   "cell_type": "markdown",
   "metadata": {},
   "source": [
    "Uh oh, seems they haven't gotten around to making that page yet. As you can see, we got an error, a `404` meaning `NOT FOUND`.\n",
    "\n",
    "### But What Does it Mean?\n",
    "\n",
    "Okay, so with that first URL we've got a response back, but what did it say? Let's look at a special property of the response, called its `text`, and see if we can make sense of it."
   ]
  },
  {
   "cell_type": "code",
   "execution_count": null,
   "metadata": {},
   "outputs": [],
   "source": [
    "print(r.text)"
   ]
  },
  {
   "cell_type": "markdown",
   "metadata": {},
   "source": [
    "So hopefully you should all recognise this output as HTML (hyper-text markup language), but it's going to take us a very long time to figure out what it says and what it means. Luckily, there's also a library we can use to start to pick apart some of that HTML and to take something more maningful out of it.\n",
    "\n",
    "That library is called BeautifulSoup, so named because it takes a messy \"soup\" of text, and turns it into something more structured (and beautiful). \n",
    "\n",
    "Let's imagine we wanted to get the names of some of the navigation links from this KCL website. The Library Services page has been set up so that these links are structured as items in an HTML list. There are a lot of these lists items in the web page so we are going to chose a selection – those with a specific class name (more on this below). The code below should do that for us, run it now and we'll see what happens."
   ]
  },
  {
   "cell_type": "code",
   "execution_count": null,
   "metadata": {},
   "outputs": [],
   "source": [
    "# import BeautifulSoup\n",
    "from bs4 import BeautifulSoup\n",
    "\n",
    "# create a new BeautifulSoup object from our text\n",
    "tree = BeautifulSoup(r.text)\n",
    "\n",
    "# Find all the list items <li> on the page with the role of listitem\n",
    "li_elements = tree.findAll('li',{'role': 'listitem'})\n",
    "print(li_elements)"
   ]
  },
  {
   "cell_type": "markdown",
   "metadata": {},
   "source": [
    "Wait, what happened there? Well, the important thing lies in this line here:\n",
    "\n",
    "    li_elements = tree.findAll('li', {'role': 'listitem'})\n",
    "    \n",
    "With the new tree we've created (some people call this object soup, or something similar – the name really doesn't matter), we've used the `findAll()` method to find the part of the web page that we're interested in. By looking at the page's source code in our web browser, we can see that the list items (which are being used as links) are contained in `li` elements.\n",
    "\n",
    "However, we want to find specific links. Often, the way that a site will do this is using a *class* which helps to style the element in the way the designer wants. So, we supplied two arguments to `findAll()`, one a string saying what kind of element we want, and another a dictionary saying what properties that element must have – in this case, a role of `listitem`. `findAll()` then found all the possible matches, and returned them to us as a Python list. \n",
    "\n",
    "However, that output is still a little messy and hard to read, ideally we probably just want the list items without the extra messy tags in the way. luckily, BeautifulSoup is way ahead of us, and has just such a way for us to get on with this: the `text` property. For example, see the code below."
   ]
  },
  {
   "cell_type": "code",
   "execution_count": null,
   "metadata": {},
   "outputs": [],
   "source": [
    "# loop through the titles\n",
    "for li_elements in li_elements:\n",
    "    print(li_elements.text)"
   ]
  },
  {
   "cell_type": "markdown",
   "metadata": {},
   "source": [
    "It's a lot to take in, so have a read through some online tutorials before you go on to the next bit. There are some listed on the KEATS page for you. Here are some more that introduce this from the basics:\n",
    "\n",
    "Dataquest's Tutorial: Python Web Scraping Tutorial using Beautiful Soup:<br /> \n",
    "https://www.dataquest.io/blog/web-scraping-tutorial-python/ \n",
    "\n",
    "ScrapeHero's Tutorial: Build a web scraper for Reddit using Python and BeautifulSoup <br /> \n",
    "https://www.scrapehero.com/a-beginners-guide-to-web-scraping-part-2-build-a-scraper-for-reddit/ "
   ]
  },
  {
   "cell_type": "markdown",
   "metadata": {},
   "source": [
    "Excellent! Now we should know everything we need to tackle this week's first problem!"
   ]
  },
  {
   "cell_type": "markdown",
   "metadata": {},
   "source": [
    "### EXERCISE 2\n",
    "<font color=purple>Wikipedia is a fascinating resource. This page, for example, is a List of Common Misconceptions: https://en.wikipedia.org/wiki/List_of_common_misconceptions . \n",
    "Your task is to use Python and Beautiful Soup to scrape the page and extract the subheadings, i.e. Food and cooking; Law, crime, and military; Literature; etc. <br /> \n",
    "\n",
    "**[25 marks]**</font>"
   ]
  },
  {
   "cell_type": "code",
   "execution_count": null,
   "metadata": {},
   "outputs": [],
   "source": [
    "# Your code here"
   ]
  },
  {
   "cell_type": "markdown",
   "metadata": {},
   "source": [
    "\n",
    "# PART 3\n",
    "\n",
    "## The `statistics` Module\n",
    "\n",
    "Now we're going to use London Borough data to do some basic statistics. \n",
    "\n",
    "Now that we're more advanced in our Python knowledge, and we know about libraries, functions and complex types, this section shouldn't need too much introduction.\n",
    "\n",
    "Python has a statistics library which we can use to work out basic statistics based on complex data types. For example, if I wanted to find out some statistics about the ages of students, I could do the following."
   ]
  },
  {
   "cell_type": "code",
   "execution_count": null,
   "metadata": {},
   "outputs": [],
   "source": [
    "# let's get the ages of students\n",
    "student_ages = [19, 20, 19, 21, 22, 19, 20, 20, 24, 19, 20, 20, 19, 20, 21]\n",
    "\n",
    "# import our function \n",
    "from statistics import mean\n",
    "\n",
    "# work out the mean\n",
    "mean_age = mean(student_ages)\n",
    "print('The mean age of a student in the class is', mean_age)"
   ]
  },
  {
   "cell_type": "markdown",
   "metadata": {},
   "source": [
    "Likewise, for the median:"
   ]
  },
  {
   "cell_type": "code",
   "execution_count": null,
   "metadata": {},
   "outputs": [],
   "source": [
    "from statistics import median\n",
    "\n",
    "median_age = median(student_ages)\n",
    "print('The median age is', median_age)"
   ]
  },
  {
   "cell_type": "markdown",
   "metadata": {},
   "source": [
    "And for the mode:"
   ]
  },
  {
   "cell_type": "code",
   "execution_count": null,
   "metadata": {},
   "outputs": [],
   "source": [
    "from statistics import mode\n",
    "\n",
    "mode_age = mode(student_ages)\n",
    "print('The most common age is', mode_age)"
   ]
  },
  {
   "cell_type": "markdown",
   "metadata": {},
   "source": [
    "Have a go at some online tutorials on statistics in Python: <br />\n",
    "https://pythonforundergradengineers.com/statistics-in-python-using-the-statistics-module.html <br />\n",
    "https://www.dataquest.io/blog/basic-statistics-with-python-descriptive-statistics/ <br />\n"
   ]
  },
  {
   "cell_type": "markdown",
   "metadata": {},
   "source": [
    "## EXERCISE 3\n",
    "<font color=purple>Using code, import the London Boroughs dataset and work out the mean and median population, area and population density (number of people per square mile) of all London Boroughs. **[30 marks]**</font>"
   ]
  },
  {
   "cell_type": "code",
   "execution_count": null,
   "metadata": {},
   "outputs": [],
   "source": [
    "from boroughs import boroughs\n",
    "\n",
    "# Your code here"
   ]
  },
  {
   "cell_type": "markdown",
   "metadata": {},
   "source": [
    "<font color=purple>Now, work out which Borough has each of the following:\n",
    "    \n",
    "* The highest population **[2 marks]**\n",
    "* The lowest population **[2 marks]**\n",
    "* The greatest population density **[2 marks]**\n",
    "* The lowest population density **[2 marks]**\n",
    "* The greatest area **[2 marks]**\n",
    "\n",
    "*HINT: refresh your knowledge with https://www.tutorialspoint.com/list-methods-in-python-in-not-in-len-min-max* \n",
    "\n",
    "</font>\n",
    "\n"
   ]
  },
  {
   "cell_type": "code",
   "execution_count": null,
   "metadata": {},
   "outputs": [],
   "source": [
    "# Your code here"
   ]
  },
  {
   "cell_type": "markdown",
   "metadata": {},
   "source": [
    "<font color=purple> Finally, what is the mean, median and mode length of the **name** (i.e of the word) of a London Borough? **[5 marks]** </font>"
   ]
  },
  {
   "cell_type": "code",
   "execution_count": null,
   "metadata": {},
   "outputs": [],
   "source": [
    "# your code here"
   ]
  },
  {
   "cell_type": "markdown",
   "metadata": {},
   "source": [
    "# Well done!\n",
    "\n",
    "We've very nearly covered everything you need for your final assignment.   \n"
   ]
  }
 ],
 "metadata": {
  "kernelspec": {
   "display_name": "Python 3",
   "language": "/gnu/store/y46swgl07yrznl5s8n13r8br2h4y65r3-python-wrapper-3.8.2/bin/python",
   "name": "python3"
  },
  "language_info": {
   "codemirror_mode": {
    "name": "ipython",
    "version": 3
   },
   "file_extension": ".py",
   "mimetype": "text/x-python",
   "name": "python",
   "nbconvert_exporter": "python",
   "pygments_lexer": "ipython3",
   "version": "3.8.2"
  }
 },
 "nbformat": 4,
 "nbformat_minor": 2
}
